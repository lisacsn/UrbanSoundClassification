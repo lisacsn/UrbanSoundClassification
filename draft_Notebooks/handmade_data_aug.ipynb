{
 "cells": [
  {
   "cell_type": "code",
   "execution_count": 1,
   "metadata": {},
   "outputs": [
    {
     "ename": "ModuleNotFoundError",
     "evalue": "No module named 'librosa'",
     "output_type": "error",
     "traceback": [
      "\u001b[0;31m---------------------------------------------------------------------------\u001b[0m",
      "\u001b[0;31mModuleNotFoundError\u001b[0m                       Traceback (most recent call last)",
      "\u001b[0;32m<ipython-input-1-cd0226774eea>\u001b[0m in \u001b[0;36m<module>\u001b[0;34m\u001b[0m\n\u001b[1;32m      5\u001b[0m \u001b[0;32mfrom\u001b[0m \u001b[0mscipy\u001b[0m\u001b[0;34m.\u001b[0m\u001b[0mio\u001b[0m \u001b[0;32mimport\u001b[0m \u001b[0mwavfile\u001b[0m\u001b[0;34m\u001b[0m\u001b[0;34m\u001b[0m\u001b[0m\n\u001b[1;32m      6\u001b[0m \u001b[0;34m\u001b[0m\u001b[0m\n\u001b[0;32m----> 7\u001b[0;31m \u001b[0;32mimport\u001b[0m \u001b[0mlibrosa\u001b[0m\u001b[0;34m\u001b[0m\u001b[0;34m\u001b[0m\u001b[0m\n\u001b[0m\u001b[1;32m      8\u001b[0m \u001b[0;32mfrom\u001b[0m \u001b[0mtqdm\u001b[0m \u001b[0;32mimport\u001b[0m \u001b[0mtqdm\u001b[0m\u001b[0;34m\u001b[0m\u001b[0;34m\u001b[0m\u001b[0m\n\u001b[1;32m      9\u001b[0m \u001b[0;32mimport\u001b[0m \u001b[0mtensorflow\u001b[0m \u001b[0;32mas\u001b[0m \u001b[0mtf\u001b[0m\u001b[0;34m\u001b[0m\u001b[0;34m\u001b[0m\u001b[0m\n",
      "\u001b[0;31mModuleNotFoundError\u001b[0m: No module named 'librosa'"
     ]
    }
   ],
   "source": [
    "import sys\n",
    "import numpy as np \n",
    "import os\n",
    "import pandas as pd \n",
    "from scipy.io import wavfile\n",
    "\n",
    "import librosa\n",
    "from tqdm import tqdm\n",
    "import tensorflow as tf\n",
    "from tensorflow import keras\n",
    "import matplotlib.pyplot as plt\n",
    "from keras import regularizers, activations\n",
    "from keras.models import Sequential\n",
    "from keras.layers import Dense, Dropout, Flatten, Activation, Conv2D, MaxPooling2D, GlobalAveragePooling2D\n",
    "from keras.utils import np_utils, to_categorical\n",
    "\n",
    "from tensorflow.keras.preprocessing.image import ImageDataGenerator\n",
    "\n",
    "from datetime import datetime \n",
    "\n",
    "from matplotlib import pyplot as plt\n",
    "\n",
    "from audiomentations import Compose, AddGaussianNoise, TimeStretch, PitchShift, Shift\n",
    "import wave"
   ]
  },
  {
   "cell_type": "code",
   "execution_count": 71,
   "metadata": {},
   "outputs": [],
   "source": [
    "US8K_AUDIO_PATH = os.path.abspath('../UrbanSound8K/audio/')\n",
    "US8K_METADATA_PATH = os.path.abspath('../UrbanSound8K/metadata/UrbanSound8K.csv')\n",
    "metadata = pd.read_csv(US8K_METADATA_PATH)"
   ]
  },
  {
   "cell_type": "code",
   "execution_count": 72,
   "metadata": {},
   "outputs": [
    {
     "data": {
      "text/html": [
       "<div>\n",
       "<style scoped>\n",
       "    .dataframe tbody tr th:only-of-type {\n",
       "        vertical-align: middle;\n",
       "    }\n",
       "\n",
       "    .dataframe tbody tr th {\n",
       "        vertical-align: top;\n",
       "    }\n",
       "\n",
       "    .dataframe thead th {\n",
       "        text-align: right;\n",
       "    }\n",
       "</style>\n",
       "<table border=\"1\" class=\"dataframe\">\n",
       "  <thead>\n",
       "    <tr style=\"text-align: right;\">\n",
       "      <th></th>\n",
       "      <th>slice_file_name</th>\n",
       "      <th>fold</th>\n",
       "      <th>classID</th>\n",
       "    </tr>\n",
       "  </thead>\n",
       "  <tbody>\n",
       "    <tr>\n",
       "      <th>0</th>\n",
       "      <td>100032-3-0-0.wav</td>\n",
       "      <td>5</td>\n",
       "      <td>3</td>\n",
       "    </tr>\n",
       "    <tr>\n",
       "      <th>1</th>\n",
       "      <td>100263-2-0-117.wav</td>\n",
       "      <td>5</td>\n",
       "      <td>2</td>\n",
       "    </tr>\n",
       "    <tr>\n",
       "      <th>2</th>\n",
       "      <td>100263-2-0-121.wav</td>\n",
       "      <td>5</td>\n",
       "      <td>2</td>\n",
       "    </tr>\n",
       "    <tr>\n",
       "      <th>3</th>\n",
       "      <td>100263-2-0-126.wav</td>\n",
       "      <td>5</td>\n",
       "      <td>2</td>\n",
       "    </tr>\n",
       "    <tr>\n",
       "      <th>4</th>\n",
       "      <td>100263-2-0-137.wav</td>\n",
       "      <td>5</td>\n",
       "      <td>2</td>\n",
       "    </tr>\n",
       "    <tr>\n",
       "      <th>...</th>\n",
       "      <td>...</td>\n",
       "      <td>...</td>\n",
       "      <td>...</td>\n",
       "    </tr>\n",
       "    <tr>\n",
       "      <th>8726</th>\n",
       "      <td>99812-1-2-0.wav</td>\n",
       "      <td>7</td>\n",
       "      <td>1</td>\n",
       "    </tr>\n",
       "    <tr>\n",
       "      <th>8727</th>\n",
       "      <td>99812-1-3-0.wav</td>\n",
       "      <td>7</td>\n",
       "      <td>1</td>\n",
       "    </tr>\n",
       "    <tr>\n",
       "      <th>8728</th>\n",
       "      <td>99812-1-4-0.wav</td>\n",
       "      <td>7</td>\n",
       "      <td>1</td>\n",
       "    </tr>\n",
       "    <tr>\n",
       "      <th>8729</th>\n",
       "      <td>99812-1-5-0.wav</td>\n",
       "      <td>7</td>\n",
       "      <td>1</td>\n",
       "    </tr>\n",
       "    <tr>\n",
       "      <th>8730</th>\n",
       "      <td>99812-1-6-0.wav</td>\n",
       "      <td>7</td>\n",
       "      <td>1</td>\n",
       "    </tr>\n",
       "  </tbody>\n",
       "</table>\n",
       "<p>8731 rows × 3 columns</p>\n",
       "</div>"
      ],
      "text/plain": [
       "         slice_file_name  fold  classID\n",
       "0       100032-3-0-0.wav     5        3\n",
       "1     100263-2-0-117.wav     5        2\n",
       "2     100263-2-0-121.wav     5        2\n",
       "3     100263-2-0-126.wav     5        2\n",
       "4     100263-2-0-137.wav     5        2\n",
       "...                  ...   ...      ...\n",
       "8726     99812-1-2-0.wav     7        1\n",
       "8727     99812-1-3-0.wav     7        1\n",
       "8728     99812-1-4-0.wav     7        1\n",
       "8729     99812-1-5-0.wav     7        1\n",
       "8730     99812-1-6-0.wav     7        1\n",
       "\n",
       "[8731 rows x 3 columns]"
      ]
     },
     "execution_count": 72,
     "metadata": {},
     "output_type": "execute_result"
    }
   ],
   "source": [
    "# load the csv metadata file into a Pandas DataFrame structure\n",
    "us8k_metadata_df = pd.read_csv(US8K_METADATA_PATH,\n",
    "                               usecols=[\"slice_file_name\", \"fold\", \"classID\"],\n",
    "                               dtype={\"fold\": \"uint8\", \"classID\" : \"uint8\"})\n",
    "\n",
    "us8k_metadata_df"
   ]
  },
  {
   "cell_type": "code",
   "execution_count": 73,
   "metadata": {},
   "outputs": [],
   "source": [
    "HOP_LENGTH = 512        # number of samples between successive frames\n",
    "WINDOW_LENGTH = 512     # length of the window in samples\n",
    "N_MEL = 128             # number of Mel bands to generate\n",
    "\n",
    "\n",
    "\n",
    "def compute_melspectrogram_with_fixed_length(audio, sampling_rate, num_of_samples=128):\n",
    "    try:\n",
    "        # compute a mel-scaled spectrogram\n",
    "        melspectrogram = librosa.feature.melspectrogram(y=audio, \n",
    "                                                        sr=sampling_rate, \n",
    "                                                        hop_length=HOP_LENGTH,\n",
    "                                                        win_length=WINDOW_LENGTH, \n",
    "                                                        n_mels=N_MEL)\n",
    "\n",
    "        # convert a power spectrogram to decibel units (log-mel spectrogram)\n",
    "        melspectrogram_db = librosa.power_to_db(melspectrogram, ref=np.max)\n",
    "        \n",
    "        melspectrogram_length = melspectrogram_db.shape[1]\n",
    "        \n",
    "        # pad or fix the length of spectrogram \n",
    "        if melspectrogram_length != num_of_samples:\n",
    "            melspectrogram_db = librosa.util.fix_length(melspectrogram_db, \n",
    "                                                        size=num_of_samples, \n",
    "                                                        axis=1, \n",
    "                                                        constant_values=(0, -80.0))\n",
    "    except Exception as e:\n",
    "        print(\"\\nError encountered while parsing files\\n>>\", e)\n",
    "        return None \n",
    "    \n",
    "    return melspectrogram_db"
   ]
  },
  {
   "cell_type": "code",
   "execution_count": 74,
   "metadata": {},
   "outputs": [],
   "source": [
    "augmente_PitchShift = Compose([\n",
    "    PitchShift(min_semitones=-4, max_semitones=4, p=1),\n",
    "])\n",
    "\n",
    "augmente_GaussianNoise = Compose([\n",
    "    AddGaussianNoise(min_amplitude=0.001, max_amplitude=0.015, p=1),\n",
    "])\n",
    "\n",
    "\n",
    "augmente_TimeStretch = Compose([\n",
    "    TimeStretch(min_rate=0.8, max_rate=1.25, p=1),\n",
    "])\n"
   ]
  },
  {
   "cell_type": "code",
   "execution_count": 75,
   "metadata": {},
   "outputs": [],
   "source": [
    "def augmentation(sound, label, sample_rate):\n",
    "    data = []\n",
    "    if label == 0 : \n",
    "        data.append(augmente_PitchShift(sound,sample_rate))\n",
    "    \n",
    "    if label == 1 : \n",
    "        data.append(augmente_PitchShift(sound,sample_rate))\n",
    "        data.append(augmente_GaussianNoise(sound,sample_rate))\n",
    "        data.append(augmente_TimeStretch(sound,sample_rate))\n",
    "    if label == 2 : \n",
    "        data.append(augmente_GaussianNoise(sound,sample_rate))\n",
    "        \n",
    "    if label == 5 : \n",
    "        data.append(augmente_PitchShift(sound,sample_rate))\n",
    "    if label == 6 : \n",
    "        data.append(augmente_PitchShift(sound,sample_rate))\n",
    "        data.append(augmente_GaussianNoise(sound,sample_rate))\n",
    "        data.append(augmente_TimeStretch(sound,sample_rate))\n",
    "    if label == 7 : \n",
    "        data.append(augmente_PitchShift(sound,sample_rate))\n",
    "        data.append(augmente_GaussianNoise(sound,sample_rate))\n",
    "        data.append(augmente_TimeStretch(sound,sample_rate))\n",
    "     \n",
    "    return data \n",
    "        \n",
    "    "
   ]
  },
  {
   "cell_type": "code",
   "execution_count": 76,
   "metadata": {},
   "outputs": [
    {
     "name": "stderr",
     "output_type": "stream",
     "text": [
      " 41%|████      | 3554/8731 [06:18<06:09, 14.03it/s]/home/maxence/.local/lib/python3.8/site-packages/librosa/core/spectrum.py:222: UserWarning: n_fft=2048 is too small for input signal of length=1323\n",
      "  warnings.warn(\n",
      " 95%|█████████▌| 8323/8731 [14:36<00:25, 15.73it/s]/home/maxence/.local/lib/python3.8/site-packages/librosa/core/spectrum.py:222: UserWarning: n_fft=2048 is too small for input signal of length=1103\n",
      "  warnings.warn(\n",
      " 95%|█████████▌| 8326/8731 [14:36<00:22, 18.18it/s]/home/maxence/.local/lib/python3.8/site-packages/librosa/core/spectrum.py:222: UserWarning: n_fft=2048 is too small for input signal of length=1523\n",
      "  warnings.warn(\n",
      "100%|██████████| 8731/8731 [15:10<00:00,  9.59it/s]\n"
     ]
    }
   ],
   "source": [
    "features = []\n",
    "if not(usk)\n",
    "# iterate through all dataset examples and compute log-mel spectrograms\n",
    "for index, row in tqdm(us8k_metadata_df.iterrows(), total=len(us8k_metadata_df)):\n",
    "    file_path = f'{US8K_AUDIO_PATH}/fold{row[\"fold\"]}/{row[\"slice_file_name\"]}'\n",
    "    audio, sample_rate = librosa.load(file_path, duration=SOUND_DURATION, res_type='kaiser_fast')\n",
    "\n",
    "    label = row[\"classID\"]\n",
    "    fold = row[\"fold\"]\n",
    "    \n",
    "    augmented_samples = augmentation(audio,label, sample_rate)\n",
    "    \n",
    "    melspectrogram = compute_melspectrogram_with_fixed_length(audio, sample_rate)\n",
    "    features.append([melspectrogram, label, fold])\n",
    "    \n",
    "    for i in range(len(augmented_samples)) :\n",
    "        melspectrogram_a = compute_melspectrogram_with_fixed_length(augmented_samples[i],sample_rate)\n",
    "        features.append([melspectrogram_a, label, fold])\n",
    "\n",
    "\n",
    "\n",
    "# convert into a Pandas DataFrame \n",
    "us8k_df = pd.DataFrame(features, columns=[\"melspectrogram\", \"label\", \"fold\"])"
   ]
  },
  {
   "cell_type": "code",
   "execution_count": 77,
   "metadata": {},
   "outputs": [
    {
     "data": {
      "text/plain": [
       "(17137, 3)"
      ]
     },
     "execution_count": 77,
     "metadata": {},
     "output_type": "execute_result"
    }
   ],
   "source": [
    "us8k_df.shape"
   ]
  },
  {
   "cell_type": "code",
   "execution_count": 78,
   "metadata": {},
   "outputs": [],
   "source": [
    "# write the Pandas DataFrame object to .pkl file\n",
    "WRITE_DATA = True\n",
    "\n",
    "if WRITE_DATA:\n",
    "  us8k_df.to_pickle(\"us8k_augmented_df.pkl\")"
   ]
  },
  {
   "cell_type": "code",
   "execution_count": null,
   "metadata": {},
   "outputs": [],
   "source": []
  }
 ],
 "metadata": {
  "kernelspec": {
   "display_name": "Python 3",
   "language": "python",
   "name": "python3"
  },
  "language_info": {
   "codemirror_mode": {
    "name": "ipython",
    "version": 3
   },
   "file_extension": ".py",
   "mimetype": "text/x-python",
   "name": "python",
   "nbconvert_exporter": "python",
   "pygments_lexer": "ipython3",
   "version": "3.8.3"
  }
 },
 "nbformat": 4,
 "nbformat_minor": 5
}
