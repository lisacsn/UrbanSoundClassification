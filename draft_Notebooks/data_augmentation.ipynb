{
 "cells": [
  {
   "cell_type": "code",
   "execution_count": 8,
   "metadata": {},
   "outputs": [],
   "source": [
    "import numpy as np \n",
    "import os\n",
    "import pandas as pd \n",
    "from scipy.io import wavfile\n",
    "\n",
    "import librosa\n",
    "from tqdm import tqdm\n",
    "import tensorflow as tf\n",
    "from tensorflow import keras\n",
    "\n",
    "import matplotlib.pyplot as plt\n",
    "from tensorflow.keras import regularizers, activations\n",
    "from tensorflow.keras.models import Sequential\n",
    "from tensorflow.keras.layers import Dense, Dropout, Flatten, Activation, Conv2D, MaxPooling2D, GlobalAveragePooling2D\n",
    "from tensorflow.keras.utils import to_categorical\n",
    "from sklearn.model_selection import train_test_split\n",
    "from tensorflow.keras.preprocessing.image import ImageDataGenerator\n",
    "\n",
    "from tensorflow.keras.preprocessing.image import ImageDataGenerator\n",
    "\n",
    "from datetime import datetime \n",
    "\n",
    "from matplotlib import pyplot as plt"
   ]
  },
  {
   "cell_type": "markdown",
   "metadata": {},
   "source": [
    "# Importation des données"
   ]
  },
  {
   "cell_type": "code",
   "execution_count": 3,
   "metadata": {},
   "outputs": [],
   "source": [
    "us8k_df = pd.read_pickle(\"us8k_df.pkl\")"
   ]
  },
  {
   "cell_type": "code",
   "execution_count": 4,
   "metadata": {},
   "outputs": [
    {
     "data": {
      "text/plain": [
       "array([[-61.70703 , -74.49714 , -65.133354, ..., -80.      , -80.      ,\n",
       "        -80.      ],\n",
       "       [-58.9729  , -65.05351 , -65.055664, ..., -80.      , -80.      ,\n",
       "        -80.      ],\n",
       "       [-58.314186, -59.996964, -61.480446, ..., -80.      , -80.      ,\n",
       "        -80.      ],\n",
       "       ...,\n",
       "       [-80.      , -80.      , -67.451935, ..., -80.      , -80.      ,\n",
       "        -80.      ],\n",
       "       [-80.      , -80.      , -74.46571 , ..., -80.      , -80.      ,\n",
       "        -80.      ],\n",
       "       [-80.      , -80.      , -80.      , ..., -80.      , -80.      ,\n",
       "        -80.      ]], dtype=float32)"
      ]
     },
     "execution_count": 4,
     "metadata": {},
     "output_type": "execute_result"
    }
   ],
   "source": [
    "df = us8k_df.drop(['fold'],axis=1)\n",
    "df['melspectrogram'][0]"
   ]
  },
  {
   "cell_type": "code",
   "execution_count": 7,
   "metadata": {},
   "outputs": [],
   "source": [
    "X = np.stack(df.melspectrogram.to_numpy())\n",
    "\n",
    "X_dim = (128,128,1)\n",
    "X = X.reshape(X.shape[0], *X_dim)\n",
    "Y = np.array(df['label'])\n",
    "Y = to_categorical(Y)"
   ]
  },
  {
   "cell_type": "code",
   "execution_count": 10,
   "metadata": {},
   "outputs": [],
   "source": [
    "def init_data_aug():\n",
    "    train_datagen = ImageDataGenerator(\n",
    "        featurewise_center=True,\n",
    "        featurewise_std_normalization=True,\n",
    "        fill_mode = 'constant',\n",
    "        cval=-80.0,\n",
    "        width_shift_range=0.1,\n",
    "        height_shift_range=0.0)\n",
    "\n",
    "    val_datagen = ImageDataGenerator(\n",
    "        featurewise_center=True,\n",
    "        featurewise_std_normalization=True,\n",
    "        fill_mode = 'constant',\n",
    "        cval=-80.0)\n",
    "    \n",
    "    \n",
    "    return train_datagen, val_datagen"
   ]
  },
  {
   "cell_type": "code",
   "execution_count": 12,
   "metadata": {},
   "outputs": [
    {
     "data": {
      "text/plain": [
       "1310"
      ]
     },
     "execution_count": 12,
     "metadata": {},
     "output_type": "execute_result"
    }
   ],
   "source": [
    "X_train, X_test, Y_train, Y_test = train_test_split(X,Y,test_size=0.3,shuffle=True,stratify = Y)\n",
    "len(X_train),len(X_test),len(Y_test)\n",
    "X_val, X_test, Y_val,Y_test = train_test_split(X_test,Y_test,test_size=0.5,shuffle=True,stratify = Y_test)\n",
    "len(X_test)"
   ]
  },
  {
   "cell_type": "code",
   "execution_count": 13,
   "metadata": {},
   "outputs": [],
   "source": [
    "def init_model():\n",
    "    model1 = Sequential()\n",
    "    \n",
    "    #layer-1\n",
    "    model1.add(Conv2D(filters=24, kernel_size=5, input_shape=(128, 128, 1),\n",
    "                      kernel_regularizer=regularizers.l2(1e-3)))\n",
    "    model1.add(MaxPooling2D(pool_size=(3,3), strides=3))\n",
    "    model1.add(Activation(activations.relu))\n",
    "    \n",
    "    #layer-2\n",
    "    model1.add(Conv2D(filters=36, kernel_size=4, padding='valid', kernel_regularizer=regularizers.l2(1e-3)))\n",
    "    model1.add(MaxPooling2D(pool_size=(2,2), strides=2))\n",
    "    model1.add(Activation(activations.relu))\n",
    "    \n",
    "    #layer-3\n",
    "    model1.add(Conv2D(filters=48, kernel_size=3, padding='valid'))\n",
    "    model1.add(Activation(activations.relu))\n",
    "    \n",
    "    model1.add(GlobalAveragePooling2D())\n",
    "    \n",
    "    #layer-4 (1st dense layer)\n",
    "    model1.add(Dense(60, activation='relu'))\n",
    "    model1.add(Dropout(0.5))\n",
    "    \n",
    "    #layer-5 (2nd dense layer)\n",
    "    model1.add(Dense(10, activation='softmax'))\n",
    "\n",
    "    \n",
    "    # compile\n",
    "    model1.compile(loss='categorical_crossentropy', metrics=['accuracy'], optimizer='adam')\n",
    "    \n",
    "    return model1"
   ]
  },
  {
   "cell_type": "code",
   "execution_count": 15,
   "metadata": {},
   "outputs": [],
   "source": [
    "def process(model,X_train,X_val,Y_train,Y_val, epochs=100, num_batch_size=32):\n",
    "    \n",
    "    # init model\n",
    "    model = init_model()\n",
    "    \n",
    "    train_datagen, val_datagen = init_data_aug()\n",
    "    # fit augmentation\n",
    "    train_datagen.fit(X_train)\n",
    "    val_datagen.fit(X_train)\n",
    "\n",
    "\n",
    "    # pre-training accuracy\n",
    "    score = model.evaluate(val_datagen.flow(X_val, Y_val, batch_size=num_batch_size), verbose=0)\n",
    "    print(\"Pre-training accuracy: %.4f%%\\n\" % (100 * score[1]))\n",
    "    \n",
    "    # train the model\n",
    "    start = datetime.now()\n",
    "    history = model.fit(train_datagen.flow(X_train,Y_train, batch_size=num_batch_size), \n",
    "                        steps_per_epoch=len(X_train) / num_batch_size,\n",
    "                        epochs=epochs,\n",
    "                        validation_data=val_datagen.flow(X_val,Y_val,batch_size=num_batch_size))\n",
    "    end = datetime.now()\n",
    "    print(\"Training completed in time: \", end - start, '\\n')\n",
    "    \n",
    "    return history"
   ]
  },
  {
   "cell_type": "code",
   "execution_count": 20,
   "metadata": {},
   "outputs": [
    {
     "name": "stdout",
     "output_type": "stream",
     "text": [
      "Pre-training accuracy: 4.5038%\n",
      "\n"
     ]
    }
   ],
   "source": [
    "epochs = 100\n",
    "num_batch_size = 32\n",
    "\n",
    "model = init_model()\n",
    "    \n",
    "train_datagen, val_datagen = init_data_aug()\n",
    "# fit augmentation\n",
    "train_datagen.fit(X_train)\n",
    "val_datagen.fit(X_train)\n",
    "\n",
    "\n",
    "# pre-training accuracy\n",
    "score = model.evaluate(val_datagen.flow(X_val, Y_val, batch_size=num_batch_size), verbose=0)\n",
    "print(\"Pre-training accuracy: %.4f%%\\n\" % (100 * score[1]))\n",
    "    \n",
    "\n"
   ]
  },
  {
   "cell_type": "code",
   "execution_count": 21,
   "metadata": {},
   "outputs": [],
   "source": [
    "log_dir = \"logs/fit/\" + datetime.now().strftime(\"%Y%m%d-%H%M%S\")\n",
    "tensorboard_callback = tf.keras.callbacks.TensorBoard(log_dir = log_dir, histogram_freq = 1)\n",
    "save_best = tf.keras.callbacks.ModelCheckpoint(filepath = \"logs/checkpoints/\", save_weights_only = True,\n",
    "                                               monitor = \"val_accuracy\", mode = \"max\", save_best_only = True)"
   ]
  },
  {
   "cell_type": "code",
   "execution_count": 22,
   "metadata": {},
   "outputs": [
    {
     "name": "stdout",
     "output_type": "stream",
     "text": [
      "Epoch 1/100\n",
      "191/191 [==============================] - 19s 96ms/step - loss: 2.0945 - accuracy: 0.2114 - val_loss: 1.8490 - val_accuracy: 0.3031\n",
      "Epoch 2/100\n",
      "191/191 [==============================] - 18s 95ms/step - loss: 1.8834 - accuracy: 0.2795 - val_loss: 1.7011 - val_accuracy: 0.3534\n",
      "Epoch 3/100\n",
      "191/191 [==============================] - 18s 95ms/step - loss: 1.7282 - accuracy: 0.3514 - val_loss: 1.4976 - val_accuracy: 0.4344\n",
      "Epoch 4/100\n",
      "191/191 [==============================] - 18s 94ms/step - loss: 1.6228 - accuracy: 0.3923 - val_loss: 1.4068 - val_accuracy: 0.4534\n",
      "Epoch 5/100\n",
      "191/191 [==============================] - 19s 97ms/step - loss: 1.5227 - accuracy: 0.4308 - val_loss: 1.3409 - val_accuracy: 0.5008\n",
      "Epoch 6/100\n",
      "191/191 [==============================] - 19s 98ms/step - loss: 1.4431 - accuracy: 0.4714 - val_loss: 1.2222 - val_accuracy: 0.5298\n",
      "Epoch 7/100\n",
      "191/191 [==============================] - 19s 98ms/step - loss: 1.3780 - accuracy: 0.5049 - val_loss: 1.2548 - val_accuracy: 0.5450\n",
      "Epoch 8/100\n",
      "191/191 [==============================] - 20s 105ms/step - loss: 1.3491 - accuracy: 0.5129 - val_loss: 1.1174 - val_accuracy: 0.5756\n",
      "Epoch 9/100\n",
      "191/191 [==============================] - 19s 98ms/step - loss: 1.3033 - accuracy: 0.5291 - val_loss: 1.1123 - val_accuracy: 0.5794\n",
      "Epoch 10/100\n",
      "191/191 [==============================] - 19s 99ms/step - loss: 1.2746 - accuracy: 0.5455 - val_loss: 1.3181 - val_accuracy: 0.4931\n",
      "Epoch 11/100\n",
      "191/191 [==============================] - 19s 98ms/step - loss: 1.2487 - accuracy: 0.5530 - val_loss: 1.0598 - val_accuracy: 0.6229\n",
      "Epoch 12/100\n",
      "191/191 [==============================] - 18s 97ms/step - loss: 1.2192 - accuracy: 0.5666 - val_loss: 1.1343 - val_accuracy: 0.5763\n",
      "Epoch 13/100\n",
      "191/191 [==============================] - 19s 100ms/step - loss: 1.2002 - accuracy: 0.5754 - val_loss: 1.0215 - val_accuracy: 0.6458\n",
      "Epoch 14/100\n",
      "191/191 [==============================] - 19s 98ms/step - loss: 1.1816 - accuracy: 0.5879 - val_loss: 1.0313 - val_accuracy: 0.6313\n",
      "Epoch 15/100\n",
      "191/191 [==============================] - 19s 101ms/step - loss: 1.1693 - accuracy: 0.5897 - val_loss: 0.9418 - val_accuracy: 0.6779\n",
      "Epoch 16/100\n",
      "191/191 [==============================] - 18s 94ms/step - loss: 1.1462 - accuracy: 0.6027 - val_loss: 1.0548 - val_accuracy: 0.6389\n",
      "Epoch 17/100\n",
      "191/191 [==============================] - 18s 93ms/step - loss: 1.1181 - accuracy: 0.6132 - val_loss: 0.8945 - val_accuracy: 0.7008\n",
      "Epoch 18/100\n",
      "191/191 [==============================] - 18s 92ms/step - loss: 1.1121 - accuracy: 0.6080 - val_loss: 0.9332 - val_accuracy: 0.6786\n",
      "Epoch 19/100\n",
      "191/191 [==============================] - 18s 96ms/step - loss: 1.0823 - accuracy: 0.6288 - val_loss: 0.8861 - val_accuracy: 0.7000\n",
      "Epoch 20/100\n",
      "191/191 [==============================] - 18s 97ms/step - loss: 1.0697 - accuracy: 0.6347 - val_loss: 1.0260 - val_accuracy: 0.6435\n",
      "Epoch 21/100\n",
      "191/191 [==============================] - 18s 93ms/step - loss: 1.0453 - accuracy: 0.6391 - val_loss: 0.8356 - val_accuracy: 0.7160\n",
      "Epoch 22/100\n",
      "191/191 [==============================] - 18s 95ms/step - loss: 1.0142 - accuracy: 0.6510 - val_loss: 0.8706 - val_accuracy: 0.7061\n",
      "Epoch 23/100\n",
      "191/191 [==============================] - 18s 94ms/step - loss: 1.0186 - accuracy: 0.6589 - val_loss: 0.8134 - val_accuracy: 0.7275\n",
      "Epoch 24/100\n",
      "191/191 [==============================] - 17s 91ms/step - loss: 0.9861 - accuracy: 0.6661 - val_loss: 0.8789 - val_accuracy: 0.7038\n",
      "Epoch 25/100\n",
      "191/191 [==============================] - 17s 91ms/step - loss: 1.0025 - accuracy: 0.6638 - val_loss: 0.8043 - val_accuracy: 0.7405\n",
      "Epoch 26/100\n",
      "191/191 [==============================] - 18s 93ms/step - loss: 0.9809 - accuracy: 0.6734 - val_loss: 0.8340 - val_accuracy: 0.7229\n",
      "Epoch 27/100\n",
      "191/191 [==============================] - 18s 93ms/step - loss: 0.9513 - accuracy: 0.6769 - val_loss: 0.7818 - val_accuracy: 0.7260\n",
      "Epoch 28/100\n",
      "191/191 [==============================] - 18s 93ms/step - loss: 0.9325 - accuracy: 0.6865 - val_loss: 0.7605 - val_accuracy: 0.7519\n",
      "Epoch 29/100\n",
      "191/191 [==============================] - 18s 94ms/step - loss: 0.9311 - accuracy: 0.6895 - val_loss: 0.7800 - val_accuracy: 0.7382\n",
      "Epoch 30/100\n",
      "191/191 [==============================] - 18s 93ms/step - loss: 0.9177 - accuracy: 0.6978 - val_loss: 0.7539 - val_accuracy: 0.7542\n",
      "Epoch 31/100\n",
      "191/191 [==============================] - 17s 91ms/step - loss: 0.9136 - accuracy: 0.6981 - val_loss: 0.7795 - val_accuracy: 0.7504\n",
      "Epoch 32/100\n",
      "191/191 [==============================] - 18s 93ms/step - loss: 0.8793 - accuracy: 0.7120 - val_loss: 0.8220 - val_accuracy: 0.7244\n",
      "Epoch 33/100\n",
      "191/191 [==============================] - 18s 93ms/step - loss: 0.8962 - accuracy: 0.7083 - val_loss: 0.7127 - val_accuracy: 0.7511\n",
      "Epoch 34/100\n",
      "191/191 [==============================] - 18s 95ms/step - loss: 0.8719 - accuracy: 0.7204 - val_loss: 0.6723 - val_accuracy: 0.7794\n",
      "Epoch 35/100\n",
      "191/191 [==============================] - 19s 97ms/step - loss: 0.8405 - accuracy: 0.7266 - val_loss: 0.6750 - val_accuracy: 0.7969\n",
      "Epoch 36/100\n",
      "191/191 [==============================] - 18s 95ms/step - loss: 0.8545 - accuracy: 0.7181 - val_loss: 0.7742 - val_accuracy: 0.7351\n",
      "Epoch 37/100\n",
      "191/191 [==============================] - 17s 91ms/step - loss: 0.8232 - accuracy: 0.7331 - val_loss: 0.7182 - val_accuracy: 0.7794\n",
      "Epoch 38/100\n",
      "191/191 [==============================] - 18s 95ms/step - loss: 0.8531 - accuracy: 0.7245 - val_loss: 0.6721 - val_accuracy: 0.7763\n",
      "Epoch 39/100\n",
      "191/191 [==============================] - 18s 94ms/step - loss: 0.8330 - accuracy: 0.7264 - val_loss: 0.7177 - val_accuracy: 0.7756\n",
      "Epoch 40/100\n",
      "191/191 [==============================] - 18s 92ms/step - loss: 0.8113 - accuracy: 0.7394 - val_loss: 0.6658 - val_accuracy: 0.7855\n",
      "Epoch 41/100\n",
      "191/191 [==============================] - 18s 92ms/step - loss: 0.7995 - accuracy: 0.7425 - val_loss: 0.6734 - val_accuracy: 0.7786\n",
      "Epoch 42/100\n",
      "191/191 [==============================] - 18s 92ms/step - loss: 0.8041 - accuracy: 0.7376 - val_loss: 0.7795 - val_accuracy: 0.7550\n",
      "Epoch 43/100\n",
      "191/191 [==============================] - 17s 91ms/step - loss: 0.7846 - accuracy: 0.7435 - val_loss: 0.7751 - val_accuracy: 0.7458\n",
      "Epoch 44/100\n",
      "191/191 [==============================] - 17s 91ms/step - loss: 0.7801 - accuracy: 0.7485 - val_loss: 0.6504 - val_accuracy: 0.7985\n",
      "Epoch 45/100\n",
      "191/191 [==============================] - 18s 94ms/step - loss: 0.7675 - accuracy: 0.7570 - val_loss: 0.6163 - val_accuracy: 0.8153\n",
      "Epoch 46/100\n",
      "191/191 [==============================] - 18s 93ms/step - loss: 0.7539 - accuracy: 0.7669 - val_loss: 0.6606 - val_accuracy: 0.7916\n",
      "Epoch 47/100\n",
      "191/191 [==============================] - 18s 93ms/step - loss: 0.7596 - accuracy: 0.7662 - val_loss: 0.6363 - val_accuracy: 0.8107\n",
      "Epoch 48/100\n",
      "191/191 [==============================] - 18s 94ms/step - loss: 0.7552 - accuracy: 0.7629 - val_loss: 0.6739 - val_accuracy: 0.7824\n",
      "Epoch 49/100\n",
      "191/191 [==============================] - 18s 93ms/step - loss: 0.7560 - accuracy: 0.7619 - val_loss: 0.6599 - val_accuracy: 0.7870\n",
      "Epoch 50/100\n",
      "191/191 [==============================] - 18s 92ms/step - loss: 0.7209 - accuracy: 0.7801 - val_loss: 0.7099 - val_accuracy: 0.7695\n",
      "Epoch 51/100\n",
      "191/191 [==============================] - 18s 92ms/step - loss: 0.7401 - accuracy: 0.7660 - val_loss: 0.6601 - val_accuracy: 0.7916\n",
      "Epoch 52/100\n",
      "191/191 [==============================] - 18s 94ms/step - loss: 0.7316 - accuracy: 0.7714 - val_loss: 0.5968 - val_accuracy: 0.8137\n",
      "Epoch 53/100\n",
      "191/191 [==============================] - 17s 90ms/step - loss: 0.7234 - accuracy: 0.7701 - val_loss: 0.6100 - val_accuracy: 0.8176\n",
      "Epoch 54/100\n",
      "191/191 [==============================] - 18s 92ms/step - loss: 0.6988 - accuracy: 0.7829 - val_loss: 0.6202 - val_accuracy: 0.8160\n",
      "Epoch 55/100\n",
      "191/191 [==============================] - 17s 88ms/step - loss: 0.6878 - accuracy: 0.7873 - val_loss: 0.6186 - val_accuracy: 0.8115\n",
      "Epoch 56/100\n",
      "191/191 [==============================] - 17s 89ms/step - loss: 0.6956 - accuracy: 0.7983 - val_loss: 0.6064 - val_accuracy: 0.8084\n",
      "Epoch 57/100\n",
      "191/191 [==============================] - 18s 96ms/step - loss: 0.6939 - accuracy: 0.7955 - val_loss: 0.6268 - val_accuracy: 0.8130\n",
      "Epoch 58/100\n",
      "191/191 [==============================] - 18s 94ms/step - loss: 0.6853 - accuracy: 0.7955 - val_loss: 0.5867 - val_accuracy: 0.8191\n",
      "Epoch 59/100\n",
      "191/191 [==============================] - 18s 95ms/step - loss: 0.6641 - accuracy: 0.7992 - val_loss: 0.5567 - val_accuracy: 0.8290\n",
      "Epoch 60/100\n",
      "191/191 [==============================] - 19s 99ms/step - loss: 0.6757 - accuracy: 0.7943 - val_loss: 0.8017 - val_accuracy: 0.7565\n",
      "Epoch 61/100\n",
      "191/191 [==============================] - 18s 92ms/step - loss: 0.6757 - accuracy: 0.7917 - val_loss: 0.5525 - val_accuracy: 0.8366\n",
      "Epoch 62/100\n",
      "191/191 [==============================] - 17s 91ms/step - loss: 0.6584 - accuracy: 0.8009 - val_loss: 0.5519 - val_accuracy: 0.8389\n",
      "Epoch 63/100\n",
      "191/191 [==============================] - 18s 93ms/step - loss: 0.6458 - accuracy: 0.8020 - val_loss: 0.5576 - val_accuracy: 0.8321\n",
      "Epoch 64/100\n",
      "191/191 [==============================] - 19s 97ms/step - loss: 0.6454 - accuracy: 0.8043 - val_loss: 0.5867 - val_accuracy: 0.8267\n",
      "Epoch 65/100\n",
      "191/191 [==============================] - 17s 88ms/step - loss: 0.6548 - accuracy: 0.8035 - val_loss: 0.5497 - val_accuracy: 0.8290\n",
      "Epoch 66/100\n",
      "191/191 [==============================] - 17s 88ms/step - loss: 0.6388 - accuracy: 0.8043 - val_loss: 0.6021 - val_accuracy: 0.8313\n",
      "Epoch 67/100\n",
      "191/191 [==============================] - 17s 90ms/step - loss: 0.6314 - accuracy: 0.8092 - val_loss: 0.5749 - val_accuracy: 0.8321\n",
      "Epoch 68/100\n",
      "191/191 [==============================] - 18s 95ms/step - loss: 0.6276 - accuracy: 0.8132 - val_loss: 0.5583 - val_accuracy: 0.8351\n",
      "Epoch 69/100\n",
      "191/191 [==============================] - 18s 93ms/step - loss: 0.6327 - accuracy: 0.8120 - val_loss: 0.5595 - val_accuracy: 0.8450\n",
      "Epoch 70/100\n",
      "191/191 [==============================] - 18s 93ms/step - loss: 0.6307 - accuracy: 0.8154 - val_loss: 0.5094 - val_accuracy: 0.8527\n",
      "Epoch 71/100\n",
      "191/191 [==============================] - 17s 90ms/step - loss: 0.6233 - accuracy: 0.8135 - val_loss: 0.5790 - val_accuracy: 0.8275\n",
      "Epoch 72/100\n",
      "191/191 [==============================] - 17s 89ms/step - loss: 0.6094 - accuracy: 0.8172 - val_loss: 0.5280 - val_accuracy: 0.8443\n",
      "Epoch 73/100\n",
      "191/191 [==============================] - 17s 90ms/step - loss: 0.6162 - accuracy: 0.8205 - val_loss: 0.5526 - val_accuracy: 0.8466\n",
      "Epoch 74/100\n",
      "191/191 [==============================] - 18s 92ms/step - loss: 0.6078 - accuracy: 0.8172 - val_loss: 0.5229 - val_accuracy: 0.8420\n",
      "Epoch 75/100\n",
      "191/191 [==============================] - 18s 92ms/step - loss: 0.6026 - accuracy: 0.8249 - val_loss: 0.5499 - val_accuracy: 0.8481\n",
      "Epoch 76/100\n",
      "191/191 [==============================] - 18s 93ms/step - loss: 0.6104 - accuracy: 0.8212 - val_loss: 0.5217 - val_accuracy: 0.8565\n",
      "Epoch 77/100\n",
      "191/191 [==============================] - 18s 93ms/step - loss: 0.5986 - accuracy: 0.8233 - val_loss: 0.4965 - val_accuracy: 0.8626\n",
      "Epoch 78/100\n",
      "191/191 [==============================] - 19s 99ms/step - loss: 0.5812 - accuracy: 0.8231 - val_loss: 0.5240 - val_accuracy: 0.8542\n",
      "Epoch 79/100\n",
      "191/191 [==============================] - 18s 97ms/step - loss: 0.5957 - accuracy: 0.8217 - val_loss: 0.5626 - val_accuracy: 0.8351\n",
      "Epoch 80/100\n",
      "191/191 [==============================] - 18s 97ms/step - loss: 0.5584 - accuracy: 0.8341 - val_loss: 0.5052 - val_accuracy: 0.8565\n",
      "Epoch 81/100\n",
      "191/191 [==============================] - 17s 91ms/step - loss: 0.5834 - accuracy: 0.8300 - val_loss: 0.6097 - val_accuracy: 0.8237\n",
      "Epoch 82/100\n",
      "191/191 [==============================] - 20s 102ms/step - loss: 0.5768 - accuracy: 0.8243 - val_loss: 0.5157 - val_accuracy: 0.8519\n",
      "Epoch 83/100\n",
      "191/191 [==============================] - 19s 101ms/step - loss: 0.5539 - accuracy: 0.8366 - val_loss: 0.5916 - val_accuracy: 0.8267\n",
      "Epoch 84/100\n",
      "191/191 [==============================] - 20s 103ms/step - loss: 0.5781 - accuracy: 0.8271 - val_loss: 0.5125 - val_accuracy: 0.8588\n",
      "Epoch 85/100\n",
      "191/191 [==============================] - 21s 109ms/step - loss: 0.5548 - accuracy: 0.8395 - val_loss: 0.5293 - val_accuracy: 0.8519\n",
      "Epoch 86/100\n",
      "191/191 [==============================] - 21s 110ms/step - loss: 0.5666 - accuracy: 0.8390 - val_loss: 0.4898 - val_accuracy: 0.8626\n",
      "Epoch 87/100\n",
      "191/191 [==============================] - 19s 102ms/step - loss: 0.5594 - accuracy: 0.8352 - val_loss: 0.4813 - val_accuracy: 0.8641\n",
      "Epoch 88/100\n",
      "191/191 [==============================] - 19s 100ms/step - loss: 0.5468 - accuracy: 0.8387 - val_loss: 0.5171 - val_accuracy: 0.8580\n",
      "Epoch 89/100\n",
      "191/191 [==============================] - 19s 100ms/step - loss: 0.5583 - accuracy: 0.8362 - val_loss: 0.5832 - val_accuracy: 0.8351\n",
      "Epoch 90/100\n",
      "191/191 [==============================] - 19s 101ms/step - loss: 0.5537 - accuracy: 0.8392 - val_loss: 0.4883 - val_accuracy: 0.8634\n",
      "Epoch 91/100\n",
      "191/191 [==============================] - 22s 115ms/step - loss: 0.5337 - accuracy: 0.8451 - val_loss: 0.5607 - val_accuracy: 0.8542\n",
      "Epoch 92/100\n",
      "191/191 [==============================] - 31s 160ms/step - loss: 0.5516 - accuracy: 0.8375 - val_loss: 0.5077 - val_accuracy: 0.8649\n",
      "Epoch 93/100\n",
      "191/191 [==============================] - 32s 165ms/step - loss: 0.5371 - accuracy: 0.8454 - val_loss: 0.5349 - val_accuracy: 0.8527\n",
      "Epoch 94/100\n",
      "191/191 [==============================] - 30s 157ms/step - loss: 0.5328 - accuracy: 0.8464 - val_loss: 0.4755 - val_accuracy: 0.8725\n",
      "Epoch 95/100\n",
      "191/191 [==============================] - 30s 155ms/step - loss: 0.5082 - accuracy: 0.8503 - val_loss: 0.4761 - val_accuracy: 0.8725\n",
      "Epoch 96/100\n",
      "191/191 [==============================] - 30s 158ms/step - loss: 0.5303 - accuracy: 0.8395 - val_loss: 0.4657 - val_accuracy: 0.8672\n",
      "Epoch 97/100\n",
      "191/191 [==============================] - 30s 157ms/step - loss: 0.5213 - accuracy: 0.8511 - val_loss: 0.4813 - val_accuracy: 0.8618\n",
      "Epoch 98/100\n",
      "191/191 [==============================] - 29s 153ms/step - loss: 0.5492 - accuracy: 0.8377 - val_loss: 0.4892 - val_accuracy: 0.8626\n",
      "Epoch 99/100\n",
      "191/191 [==============================] - 32s 165ms/step - loss: 0.5391 - accuracy: 0.8403 - val_loss: 0.5317 - val_accuracy: 0.8489\n",
      "Epoch 100/100\n",
      "191/191 [==============================] - 29s 153ms/step - loss: 0.5188 - accuracy: 0.8480 - val_loss: 0.4864 - val_accuracy: 0.8672\n"
     ]
    }
   ],
   "source": [
    "history = model.fit(train_datagen.flow(X_train,Y_train, batch_size=num_batch_size), \n",
    "                    steps_per_epoch=len(X_train) / num_batch_size,\n",
    "                    epochs=epochs,\n",
    "                    validation_data=val_datagen.flow(X_val,Y_val,batch_size=num_batch_size))"
   ]
  },
  {
   "cell_type": "code",
   "execution_count": 23,
   "metadata": {},
   "outputs": [],
   "source": [
    "acc = history.history['accuracy']\n",
    "val_acc = history.history['val_accuracy']\n",
    "loss_ = history.history['loss']\n",
    "val_loss_ = history.history['val_loss']"
   ]
  },
  {
   "cell_type": "code",
   "execution_count": 25,
   "metadata": {},
   "outputs": [
    {
     "data": {
      "image/png": "[encoded data removed]",
      "text/plain": [
       "<Figure size 576x576 with 2 Axes>"
      ]
     },
     "metadata": {
      "needs_background": "light"
     },
     "output_type": "display_data"
    }
   ],
   "source": [
    "plt.figure(figsize=(8, 8))\n",
    "plt.subplot(2, 1, 1)\n",
    "plt.plot(acc, label='Training Accuracy')\n",
    "plt.plot(val_acc, label='Validation Accuracy')\n",
    "\n",
    "plt.legend(loc='lower right')\n",
    "plt.title('Training and Validation Accuracy')\n",
    "\n",
    "plt.subplot(2, 1, 2)\n",
    "plt.plot(loss_, label='Training Loss')\n",
    "plt.plot(val_loss_, label='Validation Loss')\n",
    "\n",
    "plt.legend(loc='upper right')\n",
    "plt.title('Training and Validation Loss')\n",
    "plt.xlabel('epoch')\n",
    "plt.show()"
   ]
  },
  {
   "cell_type": "code",
   "execution_count": 31,
   "metadata": {},
   "outputs": [
    {
     "name": "stdout",
     "output_type": "stream",
     "text": [
      "41/41 [==============================] - 2s 43ms/step - loss: 0.4801 - accuracy: 0.8786\n",
      "191/191 [==============================] - 13s 70ms/step - loss: 0.3784 - accuracy: 0.8935\n",
      "Test accuracy : 0.8786259293556213\n",
      "Train accuracy : 0.8934882283210754\n"
     ]
    }
   ],
   "source": [
    "loss, accuracy = model.evaluate(val_datagen.flow(X_test,Y_test,batch_size=num_batch_size))\n",
    "loss, accuracy1 = model.evaluate(train_datagen.flow(X_train,Y_train, batch_size=num_batch_size))\n",
    "print('Test accuracy :', accuracy)\n",
    "print('Train accuracy :', accuracy1)"
   ]
  },
  {
   "cell_type": "code",
   "execution_count": 32,
   "metadata": {},
   "outputs": [],
   "source": [
    "model.save('logs/soundClass_model_augmentation.h5')"
   ]
  },
  {
   "cell_type": "code",
   "execution_count": null,
   "metadata": {},
   "outputs": [],
   "source": []
  }
 ],
 "metadata": {
  "kernelspec": {
   "display_name": "Python 3",
   "language": "python",
   "name": "python3"
  },
  "language_info": {
   "codemirror_mode": {
    "name": "ipython",
    "version": 3
   },
   "file_extension": ".py",
   "mimetype": "text/x-python",
   "name": "python",
   "nbconvert_exporter": "python",
   "pygments_lexer": "ipython3",
   "version": "3.8.3"
  }
 },
 "nbformat": 4,
 "nbformat_minor": 5
}
