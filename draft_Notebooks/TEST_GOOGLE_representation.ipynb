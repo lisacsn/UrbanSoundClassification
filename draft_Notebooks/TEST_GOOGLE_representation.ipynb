{
 "cells": [
  {
   "cell_type": "code",
   "execution_count": 1,
   "id": "israeli-hometown",
   "metadata": {},
   "outputs": [],
   "source": [
    "import numpy as np \n",
    "import os\n",
    "import pandas as pd \n",
    "from scipy.io import wavfile\n",
    "import matplotlib.pyplot as plt"
   ]
  },
  {
   "cell_type": "code",
   "execution_count": 3,
   "id": "waiting-today",
   "metadata": {},
   "outputs": [],
   "source": [
    "samplerate, data = wavfile.read('7061-6-0-0.wav')"
   ]
  },
  {
   "cell_type": "code",
   "execution_count": 4,
   "id": "computational-europe",
   "metadata": {},
   "outputs": [
    {
     "name": "stderr",
     "output_type": "stream",
     "text": [
      "WARNING:absl:Lingvo does not support eager execution yet. Please disable eager execution with tf.compat.v1.disable_eager_execution() or proceed at your own risk.\n"
     ]
    }
   ],
   "source": [
    "import leaf_audio.frontend as frontend\n",
    "\n",
    "leaf = frontend.Leaf()\n",
    "melfbanks = frontend.MelFilterbanks()\n",
    "tfbanks = frontend.TimeDomainFilterbanks()\n",
    "sincnet = frontend.SincNet()\n",
    "sincnet_plus = frontend.SincNetPlus()"
   ]
  },
  {
   "cell_type": "code",
   "execution_count": 5,
   "id": "disciplinary-brain",
   "metadata": {},
   "outputs": [
    {
     "data": {
      "text/plain": [
       "numpy.ndarray"
      ]
     },
     "execution_count": 5,
     "metadata": {},
     "output_type": "execute_result"
    }
   ],
   "source": [
    "type(data)"
   ]
  },
  {
   "cell_type": "code",
   "execution_count": 6,
   "id": "compound-diesel",
   "metadata": {},
   "outputs": [],
   "source": [
    "data = data.astype('float')"
   ]
  },
  {
   "cell_type": "code",
   "execution_count": 7,
   "id": "sustained-default",
   "metadata": {},
   "outputs": [
    {
     "data": {
      "text/plain": [
       "dtype('float64')"
      ]
     },
     "execution_count": 7,
     "metadata": {},
     "output_type": "execute_result"
    }
   ],
   "source": [
    "data.dtype"
   ]
  },
  {
   "cell_type": "code",
   "execution_count": 8,
   "id": "developmental-lounge",
   "metadata": {},
   "outputs": [
    {
     "name": "stdout",
     "output_type": "stream",
     "text": [
      "WARNING:tensorflow:Layer leaf is casting an input tensor from dtype float64 to the layer's dtype of float32, which is new behavior in TensorFlow 2.  The layer has dtype float32 because its dtype defaults to floatx.\n",
      "\n",
      "If you intended to run this layer in float32, you can safely ignore this warning. If in doubt, this warning is likely only an issue if you are porting a TensorFlow 1.X model to TensorFlow 2.\n",
      "\n",
      "To change all layers to have dtype float64 by default, call `tf.keras.backend.set_floatx('float64')`. To change just this layer, pass dtype='float64' to the layer constructor. If you are the author of this layer, you can disable autocasting by passing autocast=False to the base Layer constructor.\n",
      "\n"
     ]
    },
    {
     "name": "stderr",
     "output_type": "stream",
     "text": [
      "WARNING:tensorflow:Layer leaf is casting an input tensor from dtype float64 to the layer's dtype of float32, which is new behavior in TensorFlow 2.  The layer has dtype float32 because its dtype defaults to floatx.\n",
      "\n",
      "If you intended to run this layer in float32, you can safely ignore this warning. If in doubt, this warning is likely only an issue if you are porting a TensorFlow 1.X model to TensorFlow 2.\n",
      "\n",
      "To change all layers to have dtype float64 by default, call `tf.keras.backend.set_floatx('float64')`. To change just this layer, pass dtype='float64' to the layer constructor. If you are the author of this layer, you can disable autocasting by passing autocast=False to the base Layer constructor.\n",
      "\n"
     ]
    },
    {
     "name": "stdout",
     "output_type": "stream",
     "text": [
      "WARNING:tensorflow:Layer mel_filterbanks is casting an input tensor from dtype float64 to the layer's dtype of float32, which is new behavior in TensorFlow 2.  The layer has dtype float32 because its dtype defaults to floatx.\n",
      "\n",
      "If you intended to run this layer in float32, you can safely ignore this warning. If in doubt, this warning is likely only an issue if you are porting a TensorFlow 1.X model to TensorFlow 2.\n",
      "\n",
      "To change all layers to have dtype float64 by default, call `tf.keras.backend.set_floatx('float64')`. To change just this layer, pass dtype='float64' to the layer constructor. If you are the author of this layer, you can disable autocasting by passing autocast=False to the base Layer constructor.\n",
      "\n"
     ]
    },
    {
     "name": "stderr",
     "output_type": "stream",
     "text": [
      "WARNING:tensorflow:Layer mel_filterbanks is casting an input tensor from dtype float64 to the layer's dtype of float32, which is new behavior in TensorFlow 2.  The layer has dtype float32 because its dtype defaults to floatx.\n",
      "\n",
      "If you intended to run this layer in float32, you can safely ignore this warning. If in doubt, this warning is likely only an issue if you are porting a TensorFlow 1.X model to TensorFlow 2.\n",
      "\n",
      "To change all layers to have dtype float64 by default, call `tf.keras.backend.set_floatx('float64')`. To change just this layer, pass dtype='float64' to the layer constructor. If you are the author of this layer, you can disable autocasting by passing autocast=False to the base Layer constructor.\n",
      "\n"
     ]
    }
   ],
   "source": [
    "leaf_representation = leaf(data)\n",
    "melfbanks_representation = melfbanks(data)"
   ]
  },
  {
   "cell_type": "code",
   "execution_count": 9,
   "id": "fuzzy-helmet",
   "metadata": {},
   "outputs": [
    {
     "data": {
      "text/plain": [
       "tensorflow.python.framework.ops.EagerTensor"
      ]
     },
     "execution_count": 9,
     "metadata": {},
     "output_type": "execute_result"
    }
   ],
   "source": [
    "type(melfbanks_representation)"
   ]
  },
  {
   "cell_type": "code",
   "execution_count": 10,
   "id": "funny-emperor",
   "metadata": {},
   "outputs": [],
   "source": [
    "leaf_representation\n",
    "t= melfbanks_representation.numpy"
   ]
  },
  {
   "cell_type": "code",
   "execution_count": 11,
   "id": "raising-stephen",
   "metadata": {},
   "outputs": [
    {
     "data": {
      "text/plain": [
       "<bound method _EagerTensorBase.numpy of <tf.Tensor: shape=(99225, 1, 40), dtype=float32, numpy=\n",
       "array([[[-11.512925, -11.512925, -11.512925, ..., -11.512925,\n",
       "         -11.512925, -11.512925]],\n",
       "\n",
       "       [[-11.512925, -11.512925, -11.512925, ..., -11.512925,\n",
       "         -11.512925, -11.512925]],\n",
       "\n",
       "       [[-11.512925, -11.512925, -11.512925, ..., -11.512925,\n",
       "         -11.512925, -11.512925]],\n",
       "\n",
       "       ...,\n",
       "\n",
       "       [[-11.512925, -11.512925, -11.512925, ..., -11.512925,\n",
       "         -11.512925, -11.512925]],\n",
       "\n",
       "       [[-11.512393, -11.512265, -11.512299, ..., -11.507828,\n",
       "         -11.507522, -11.507188]],\n",
       "\n",
       "       [[-11.512925, -11.512925, -11.512925, ..., -11.512925,\n",
       "         -11.512925, -11.512925]]], dtype=float32)>>"
      ]
     },
     "execution_count": 11,
     "metadata": {},
     "output_type": "execute_result"
    }
   ],
   "source": [
    "t"
   ]
  },
  {
   "cell_type": "code",
   "execution_count": 12,
   "id": "dressed-present",
   "metadata": {},
   "outputs": [
    {
     "data": {
      "text/plain": [
       "<tf.Tensor: shape=(99225, 1, 40), dtype=float32, numpy=\n",
       "array([[[0.20780897, 0.20780897, 0.20780897, ..., 0.20780897,\n",
       "         0.20780897, 0.20780897]],\n",
       "\n",
       "       [[0.20780897, 0.20780897, 0.20780897, ..., 0.20780897,\n",
       "         0.20780897, 0.20780897]],\n",
       "\n",
       "       [[0.20780897, 0.20780897, 0.20780897, ..., 0.20780897,\n",
       "         0.20780897, 0.20780897]],\n",
       "\n",
       "       ...,\n",
       "\n",
       "       [[0.21767402, 0.2243576 , 0.2243576 , ..., 0.2582096 ,\n",
       "         0.26002145, 0.26086974]],\n",
       "\n",
       "       [[0.22921395, 0.23622298, 0.23621511, ..., 0.24876428,\n",
       "         0.2451222 , 0.23672509]],\n",
       "\n",
       "       [[0.20780897, 0.20780897, 0.20780897, ..., 0.20780897,\n",
       "         0.20780897, 0.20780897]]], dtype=float32)>"
      ]
     },
     "execution_count": 12,
     "metadata": {},
     "output_type": "execute_result"
    }
   ],
   "source": [
    "leaf_representation\n"
   ]
  },
  {
   "cell_type": "code",
   "execution_count": 13,
   "id": "painful-location",
   "metadata": {},
   "outputs": [],
   "source": [
    "X = np.stack(leaf_representation.numpy())"
   ]
  },
  {
   "cell_type": "code",
   "execution_count": 14,
   "id": "alike-enhancement",
   "metadata": {
    "scrolled": true
   },
   "outputs": [
    {
     "data": {
      "text/plain": [
       "array([[0.20780897, 0.20780897, 0.20780897, 0.20780897, 0.20780897,\n",
       "        0.20780897, 0.20780897, 0.20780897, 0.20780897, 0.20780897,\n",
       "        0.20780897, 0.20780897, 0.20780897, 0.20780897, 0.20780897,\n",
       "        0.20780897, 0.20780897, 0.20780897, 0.20780897, 0.20780897,\n",
       "        0.20780897, 0.20780897, 0.20780897, 0.20780897, 0.20780897,\n",
       "        0.20780897, 0.20780897, 0.20780897, 0.20780897, 0.20780897,\n",
       "        0.20780897, 0.20780897, 0.20780897, 0.20780897, 0.20780897,\n",
       "        0.20780897, 0.20780897, 0.20780897, 0.20780897, 0.20780897]],\n",
       "      dtype=float32)"
      ]
     },
     "execution_count": 14,
     "metadata": {},
     "output_type": "execute_result"
    }
   ],
   "source": [
    "X[1]\n"
   ]
  },
  {
   "cell_type": "code",
   "execution_count": 15,
   "id": "terminal-tulsa",
   "metadata": {},
   "outputs": [],
   "source": [
    "X.shape\n",
    "X_dim = (128,128,1)"
   ]
  },
  {
   "cell_type": "code",
   "execution_count": 16,
   "id": "associate-conservative",
   "metadata": {},
   "outputs": [
    {
     "ename": "ValueError",
     "evalue": "cannot reshape array of size 3969000 into shape (128,128,1)",
     "output_type": "error",
     "traceback": [
      "\u001b[0;31m---------------------------------------------------------------------------\u001b[0m",
      "\u001b[0;31mValueError\u001b[0m                                Traceback (most recent call last)",
      "\u001b[0;32m<ipython-input-16-d4a67893f50d>\u001b[0m in \u001b[0;36m<module>\u001b[0;34m\u001b[0m\n\u001b[0;32m----> 1\u001b[0;31m \u001b[0mX\u001b[0m \u001b[0;34m=\u001b[0m \u001b[0mX\u001b[0m\u001b[0;34m.\u001b[0m\u001b[0mreshape\u001b[0m\u001b[0;34m(\u001b[0m \u001b[0mX_dim\u001b[0m\u001b[0;34m)\u001b[0m\u001b[0;34m\u001b[0m\u001b[0;34m\u001b[0m\u001b[0m\n\u001b[0m",
      "\u001b[0;31mValueError\u001b[0m: cannot reshape array of size 3969000 into shape (128,128,1)"
     ]
    }
   ],
   "source": [
    "X = X.reshape( X_dim)"
   ]
  },
  {
   "cell_type": "code",
   "execution_count": null,
   "id": "taken-kentucky",
   "metadata": {},
   "outputs": [],
   "source": []
  }
 ],
 "metadata": {
  "kernelspec": {
   "display_name": "Python 3",
   "language": "python",
   "name": "python3"
  },
  "language_info": {
   "codemirror_mode": {
    "name": "ipython",
    "version": 3
   },
   "file_extension": ".py",
   "mimetype": "text/x-python",
   "name": "python",
   "nbconvert_exporter": "python",
   "pygments_lexer": "ipython3",
   "version": "3.8.8"
  }
 },
 "nbformat": 4,
 "nbformat_minor": 5
}
